{
  "nbformat": 4,
  "nbformat_minor": 0,
  "metadata": {
    "colab": {
      "provenance": []
    },
    "kernelspec": {
      "name": "python3",
      "display_name": "Python 3"
    },
    "language_info": {
      "name": "python"
    }
  },
  "cells": [
    {
      "cell_type": "code",
      "execution_count": null,
      "metadata": {
        "id": "7K01svI7A75N"
      },
      "outputs": [],
      "source": [
        "import cv2 \n",
        "import matplotlib.pyplot as plt\n",
        "import numpy as np\n",
        "from google.colab.patches import cv2_imshow"
      ]
    },
    {
      "cell_type": "code",
      "source": [
        "def histMatch(img, ref):\n",
        "  imgB_pdf = plt.hist(img[:,:,0].flatten(), bins=256, range=(-0.5, 255.5), density=True, color='b', alpha=0.5);\n",
        "  imgG_pdf = plt.hist(img[:,:,1].flatten(), bins=256, range=(-0.5, 255.5), density=True, color='g', alpha=0.5);\n",
        "  imgR_pdf = plt.hist(img[:,:,2].flatten(), bins=256, range=(-0.5, 255.5), density=True, color='r', alpha=0.5);\n",
        "\n",
        "  imgB_cdf = np.cumsum(imgB_pdf[0])\n",
        "  imgG_cdf = np.cumsum(imgG_pdf[0])\n",
        "  imgR_cdf = np.cumsum(imgR_pdf[0])\n",
        "\n",
        "  imgB_equ = np.around([[255*imgB_cdf[int(i)] for i in img[j,:,0]] for j in range(img.shape[0])])\n",
        "  imgG_equ = np.around([[255*imgG_cdf[int(i)] for i in img[j,:,1]] for j in range(img.shape[0])])\n",
        "  imgR_equ = np.around([[255*imgR_cdf[int(i)] for i in img[j,:,2]] for j in range(img.shape[0])])\n",
        "\n",
        "  refB_pdf = plt.hist(ref[:,:,0].flatten(), bins=256, range=(-0.5, 255.5), density=True, color='b', alpha=0.5);\n",
        "  refG_pdf = plt.hist(ref[:,:,1].flatten(), bins=256, range=(-0.5, 255.5), density=True, color='g', alpha=0.5);\n",
        "  refR_pdf = plt.hist(ref[:,:,2].flatten(), bins=256, range=(-0.5, 255.5), density=True, color='r', alpha=0.5);\n",
        "\n",
        "  refB_cdf = np.cumsum(refB_pdf[0])\n",
        "  refG_cdf = np.cumsum(refG_pdf[0])\n",
        "  refR_cdf = np.cumsum(refR_pdf[0])\n",
        "\n",
        "  refB_icdf = np.array([np.abs(refB_cdf - i/256).argmin() for i in range(len(refB_cdf))])\n",
        "  refG_icdf = np.array([np.abs(refG_cdf - i/256).argmin() for i in range(len(refG_cdf))])\n",
        "  refR_icdf = np.array([np.abs(refR_cdf - i/256).argmin() for i in range(len(refR_cdf))])\n",
        "  \n",
        "  imgB_matched = np.array([[refB_icdf[int(i)] for i in imgB_equ[j]] for j in range(imgB_equ.shape[0])])\n",
        "  imgG_matched = np.array([[refG_icdf[int(i)] for i in imgG_equ[j]] for j in range(imgG_equ.shape[0])])\n",
        "  imgR_matched = np.array([[refR_icdf[int(i)] for i in imgR_equ[j]] for j in range(imgR_equ.shape[0])])\n",
        "\n",
        "  img_matched = np.stack((imgB_matched, imgG_matched, imgR_matched), -1)\n",
        "  return img_matched"
      ],
      "metadata": {
        "id": "3xFIZEwGBEgl"
      },
      "execution_count": null,
      "outputs": []
    },
    {
      "cell_type": "code",
      "source": [
        "sunsetbeach = cv2.imread('/content/drive/MyDrive/PDI/sunset-beach.jpg')\n",
        "sunsetneon = cv2.imread('/content/drive/MyDrive/PDI/sunset-neon.jpg')\n",
        "\n",
        "histMatch(sunsetbeach, sunsetneon)"
      ],
      "metadata": {
        "colab": {
          "base_uri": "https://localhost:8080/",
          "height": 1000
        },
        "id": "mIcpK30hBoYl",
        "outputId": "32ff8eac-d914-4964-a68a-de5240bdad92"
      },
      "execution_count": null,
      "outputs": [
        {
          "output_type": "execute_result",
          "data": {
            "text/plain": [
              "array([[[59, 11, 28],\n",
              "        [57, 10, 25],\n",
              "        [57, 10, 24],\n",
              "        ...,\n",
              "        [55, 10, 17],\n",
              "        [55, 10, 17],\n",
              "        [55, 10, 17]],\n",
              "\n",
              "       [[58, 11, 27],\n",
              "        [57, 10, 24],\n",
              "        [57, 10, 25],\n",
              "        ...,\n",
              "        [54, 10, 16],\n",
              "        [55, 10, 17],\n",
              "        [55, 10, 17]],\n",
              "\n",
              "       [[57, 10, 25],\n",
              "        [57, 10, 24],\n",
              "        [58, 11, 27],\n",
              "        ...,\n",
              "        [54, 10, 16],\n",
              "        [54, 10, 16],\n",
              "        [54, 10, 16]],\n",
              "\n",
              "       ...,\n",
              "\n",
              "       [[16,  0,  4],\n",
              "        [17,  0,  4],\n",
              "        [16,  0,  4],\n",
              "        ...,\n",
              "        [16,  0,  4],\n",
              "        [16,  0,  4],\n",
              "        [17,  0,  5]],\n",
              "\n",
              "       [[15,  0,  3],\n",
              "        [16,  0,  4],\n",
              "        [15,  0,  4],\n",
              "        ...,\n",
              "        [17,  0,  5],\n",
              "        [17,  0,  5],\n",
              "        [18,  0,  5]],\n",
              "\n",
              "       [[15,  0,  3],\n",
              "        [16,  0,  4],\n",
              "        [15,  0,  4],\n",
              "        ...,\n",
              "        [19,  0,  6],\n",
              "        [19,  0,  6],\n",
              "        [19,  0,  6]]])"
            ]
          },
          "metadata": {},
          "execution_count": 5
        },
        {
          "output_type": "display_data",
          "data": {
            "text/plain": [
              "<Figure size 432x288 with 1 Axes>"
            ],
            "image/png": "[encoded data removed]"
          },
          "metadata": {
            "needs_background": "light"
          }
        }
      ]
    }
  ]
}